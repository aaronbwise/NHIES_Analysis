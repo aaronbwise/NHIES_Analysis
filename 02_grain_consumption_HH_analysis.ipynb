{
 "metadata": {
  "language_info": {
   "codemirror_mode": {
    "name": "ipython",
    "version": 3
   },
   "file_extension": ".py",
   "mimetype": "text/x-python",
   "name": "python",
   "nbconvert_exporter": "python",
   "pygments_lexer": "ipython3",
   "version": "3.8.0-final"
  },
  "orig_nbformat": 2,
  "kernelspec": {
   "name": "Python 3.8.0 64-bit",
   "display_name": "Python 3.8.0 64-bit",
   "metadata": {
    "interpreter": {
     "hash": "83767d93bd5392afac4cf9ebadbc4a07ba4b627a3c77350e7c48fd32ab92faa3"
    }
   }
  }
 },
 "nbformat": 4,
 "nbformat_minor": 2,
 "cells": [
  {
   "source": [
    "## Additional Analysis of NHIES Data\n",
    "### Maize, millet, sorghum and wheat data by region\n",
    "### 07 October 2020"
   ],
   "cell_type": "markdown",
   "metadata": {}
  },
  {
   "source": [
    "## HH File data"
   ],
   "cell_type": "markdown",
   "metadata": {}
  },
  {
   "cell_type": "code",
   "execution_count": 1,
   "metadata": {},
   "outputs": [],
   "source": [
    "import os\n",
    "\n",
    "import numpy as np\n",
    "import pandas as pd\n",
    "pd.set_option(\"display.max_rows\", 220)\n",
    "pd.set_option(\"display.max_columns\", None)\n",
    "\n",
    "import matplotlib.pyplot as plt\n",
    "\n",
    "import seaborn as sns\n",
    "sns.set_style(\"whitegrid\")\n",
    "\n",
    "from PIL import Image"
   ]
  },
  {
   "cell_type": "code",
   "execution_count": 2,
   "metadata": {},
   "outputs": [],
   "source": [
    "df = pd.read_csv('./data/crop.csv', parse_dates=['start_date'])"
   ]
  },
  {
   "cell_type": "code",
   "execution_count": 3,
   "metadata": {},
   "outputs": [],
   "source": [
    "# Remove data before April 2015\n",
    "ts = pd.to_datetime('04/01/2015')\n",
    "df = df[df['start_date'] >= ts]"
   ]
  },
  {
   "cell_type": "code",
   "execution_count": 4,
   "metadata": {},
   "outputs": [],
   "source": [
    "# Set index as date\n",
    "df.set_index('start_date', inplace=True)"
   ]
  },
  {
   "cell_type": "code",
   "execution_count": 5,
   "metadata": {},
   "outputs": [],
   "source": [
    "# Create variable for Grains (q02_60_02) from 'own production' and 'using_cash'\n",
    "df['Grains_own_production'] = np.where(df['q02_60_02'].isin(['own_production_garden__livestock']), 1, 0)\n",
    "df['Grains_cash'] = np.where(df['q02_60_02'].isin(['bought_using_cash']), 1, 0)"
   ]
  },
  {
   "cell_type": "code",
   "execution_count": 6,
   "metadata": {},
   "outputs": [],
   "source": [
    "# Resample multiple values -- using agg\n",
    "means = df.groupby('region').resample('1M').agg({'Grains_own_production': 'mean', 'Grains_cash': 'mean'})\n",
    "means_tot = df.groupby('Total').resample('1M').agg({'Grains_own_production': 'mean', 'Grains_cash': 'mean'})\n",
    "\n",
    "# Multiple by 100\n",
    "means = means * 100\n",
    "means_tot = means_tot * 100"
   ]
  },
  {
   "source": [
    "### Charting data"
   ],
   "cell_type": "markdown",
   "metadata": {}
  },
  {
   "cell_type": "code",
   "execution_count": 7,
   "metadata": {},
   "outputs": [],
   "source": [
    "# Create function to create HH charts\n",
    "def generate_HH_othcereal_cons_chart(df, col_name, idx_name):\n",
    "    # Font parameters\n",
    "    tw = {'fontname': 'Tw Cen MT'}\n",
    "    cl = {'fontname': 'Calibri Light'}\n",
    "\n",
    "    # Generate plot\n",
    "    ax = plt.gca()\n",
    "    ax = df[col_name][idx_name].plot(ax=ax)\n",
    "    # plt.title(f'{idx_name}: HHs consuming \"other cereals\" from Own Production (%)', loc='left', fontsize=12, **tw)\n",
    "    plt.xlabel(\"\", fontsize=8, **cl)\n",
    "    plt.ylabel(\"Percent (%)\", fontsize=8, **cl)\n",
    "    plt.xticks(fontsize=8), plt.yticks(fontsize=9)\n",
    "    plt.legend(fontsize=7, loc='upper left', frameon=False)\n",
    "    ax.set_ylim([0,60])\n",
    "    fig = ax.get_figure()\n",
    "\n",
    "    # Create filename\n",
    "    location = 'output\\\\02_region\\\\charts\\\\HH\\\\'\n",
    "    f_ext = '.svg'\n",
    "    chart_fn = idx_name + '_' + 'othercereal_own_production' + f_ext\n",
    "    chart_path = os.path.join(os.getcwd(), location, chart_fn)\n",
    "    # Save file\n",
    "    fig.savefig(chart_path)\n",
    "    plt.cla()"
   ]
  },
  {
   "cell_type": "code",
   "execution_count": null,
   "metadata": {},
   "outputs": [],
   "source": [
    "# Run for total\n",
    "generate_HH_othcereal_cons_chart(means_tot, 'Grains_own_production', 'Total')"
   ]
  },
  {
   "cell_type": "code",
   "execution_count": null,
   "metadata": {},
   "outputs": [],
   "source": [
    "# Loop through all regions, generate chart, and save\n",
    "region_list = means.index.get_level_values(0).unique().tolist()\n",
    "\n",
    "[generate_HH_othcereal_cons_chart(means, 'Grains_own_production', region) for region in region_list]"
   ]
  },
  {
   "source": [
    "## DRB file"
   ],
   "cell_type": "markdown",
   "metadata": {}
  },
  {
   "cell_type": "code",
   "execution_count": 8,
   "metadata": {},
   "outputs": [],
   "source": [
    "drb = pd.read_stata('./data/Diary_coicopV12.dta')"
   ]
  },
  {
   "cell_type": "code",
   "execution_count": 9,
   "metadata": {},
   "outputs": [
    {
     "output_type": "stream",
     "name": "stdout",
     "text": [
      "(538493, 24)\n",
      "(538493, 24)\n",
      "(154560, 24)\n"
     ]
    }
   ],
   "source": [
    "print(drb.shape)\n",
    "# Drop purchases\n",
    "# drb = drb[drb['purch_cons'].isin(['consumption'])]\n",
    "print(drb.shape)\n",
    "\n",
    "# Keep grain items  per Karen list\n",
    "wheat_list = ['Bread (white, brown, whole wheat, rye, maize, etc)', 'Macaroni, spaghetti, noodles',\n",
    "'Traditional bread, ash bread, oshikwiila, oshima, omungome', 'Vetkoek', 'Bread/ cake flour (all types)', 'Cakes (all types)',\n",
    "'Brotchen', 'Pies & pizzas']\n",
    "\n",
    "mahangu_list = ['Mageu/Oshikundu', 'Mahangu meal/ grain/ samp (pearl millet, raw)']\n",
    "\n",
    "oil_list = ['Cooking oil, sunflower', 'Olive oil']\n",
    "\n",
    "maize_list = ['Maize meal/ grain/ samp']\n",
    "\n",
    "sorghum_list = ['Sorghum meal/ grain (whole grain, raw)']\n",
    "\n",
    "vehicles_list = wheat_list + maize_list + mahangu_list + sorghum_list + oil_list\n",
    "\n",
    "drb = drb[drb['label'].isin(vehicles_list)]\n",
    "print(drb.shape)\n",
    "\n",
    "drb.sort_values('hhid', inplace=True)\n"
   ]
  },
  {
   "cell_type": "code",
   "execution_count": 10,
   "metadata": {},
   "outputs": [],
   "source": [
    "# Create date dataframe for merging into DRB\n",
    "date_df = df.reset_index().sort_values('hhid').iloc[:,0:2]\n",
    "date_df['hhid'] = date_df.hhid.str.strip()"
   ]
  },
  {
   "cell_type": "code",
   "execution_count": 11,
   "metadata": {},
   "outputs": [],
   "source": [
    "# Bring in start_date from HH file\n",
    "drb = drb.merge(date_df, on='hhid', how='left', suffixes=(\"\", \"_right\"))\n",
    "\n",
    "# Drop if start_date missing\n",
    "drb = drb.dropna(subset=['start_date'])"
   ]
  },
  {
   "cell_type": "code",
   "execution_count": 12,
   "metadata": {},
   "outputs": [],
   "source": [
    "drb.set_index('start_date', inplace=True)"
   ]
  },
  {
   "cell_type": "code",
   "execution_count": 13,
   "metadata": {},
   "outputs": [],
   "source": [
    "# Export food items by source frequencies\n",
    "drb.groupby('label').source.value_counts(normalize=True).to_csv('./output/02_region/vehicle_sources_freq.csv')\n",
    "drb.groupby('label').source.value_counts().to_csv('./output/02_region/vehicle_sources.csv')"
   ]
  },
  {
   "cell_type": "code",
   "execution_count": null,
   "metadata": {},
   "outputs": [],
   "source": [
    "# Food items with high % (>45%) consumed from own production\n",
    "mageu = ['Mageu/Oshikundu']\n",
    "mahangu = ['Mahangu meal/ grain/ samp (pearl millet, raw)']\n",
    "maize = ['Maize meal/ grain/ samp']  # Look at purchases\n",
    "sorghum = ['Sorghum meal/ grain (whole grain, raw)']\n",
    "bread = ['Bread (white, brown, whole wheat, rye, maize, etc)']\n",
    "bread_trad = ['Traditional bread, ash bread, oshikwiila, oshima, omungome']\n",
    "oil = ['Cooking oil, sunflower']"
   ]
  },
  {
   "cell_type": "code",
   "execution_count": null,
   "metadata": {},
   "outputs": [],
   "source": [
    "# Create values if food item consumed from own production\n",
    "drb['Mageu_own_production'] = np.where(drb['label'].isin(mageu) & drb['source'].isin(['Own produce']), 1, 0)\n",
    "drb['Mahangu_own_production'] = np.where(drb['label'].isin(mahangu) & drb['source'].isin(['Own produce']), 1, 0)\n",
    "drb['Sorghum_own_production'] = np.where(drb['label'].isin(sorghum) & drb['source'].isin(['Own produce']), 1, 0)\n",
    "drb['Bread_trad_own_production'] = np.where(drb['label'].isin(bread_trad) & drb['source'].isin(['Own produce']), 1, 0)\n",
    "# Purchase\n",
    "purch_list = ['Supermarket', 'Shebeen', 'Open market/ Vendor']\n",
    "drb['Maize_purchase'] = np.where(drb['label'].isin(maize) & drb['source'].isin(purch_list), 1, 0)\n",
    "drb['Bread_purchase'] = np.where(drb['label'].isin(bread) & drb['source'].isin(purch_list), 1, 0)\n",
    "drb['Oil_purchase'] = np.where(drb['label'].isin(oil) & drb['source'].isin(purch_list), 1, 0)"
   ]
  },
  {
   "cell_type": "code",
   "execution_count": null,
   "metadata": {},
   "outputs": [],
   "source": [
    "drb.insert(2, 'total', 'total')\n",
    "drb.head()"
   ]
  },
  {
   "cell_type": "code",
   "execution_count": null,
   "metadata": {},
   "outputs": [],
   "source": [
    "# Create separate mean dataframes\n",
    "mageu_mean = drb.groupby('region').resample('1M').agg({'Mageu_own_production': 'mean'})\n",
    "mahangu_mean = drb.groupby('region').resample('1M').agg({'Mahangu_own_production': 'mean'})\n",
    "sorghum_mean = drb.groupby('region').resample('1M').agg({'Sorghum_own_production': 'mean'})\n",
    "bread_trad_mean = drb.groupby('region').resample('1M').agg({'Bread_trad_own_production': 'mean'})\n",
    "maize_mean = drb.groupby('region').resample('1M').agg({'Maize_purchase': 'mean'})\n",
    "bread_mean = drb.groupby('region').resample('1M').agg({'Bread_purchase': 'mean'})\n",
    "oil_mean = drb.groupby('region').resample('1M').agg({'Oil_purchase': 'mean'})\n",
    "\n",
    "mahangu_mean_tot = drb.groupby('total').resample('1M').agg({'Mahangu_own_production': 'mean'})\n",
    "maize_mean_tot = drb.groupby('total').resample('1M').agg({'Maize_purchase': 'mean'})\n",
    "bread_mean_tot = drb.groupby('total').resample('1M').agg({'Bread_purchase': 'mean'})\n",
    "\n",
    "\n",
    "mageu_mean = mageu_mean * 100\n",
    "mahangu_mean = mahangu_mean * 100\n",
    "sorghum_mean = sorghum_mean * 100\n",
    "bread_trad_mean = bread_trad_mean * 100\n",
    "maize_mean = maize_mean * 100\n",
    "bread_mean = bread_mean * 100\n",
    "oil_mean = oil_mean * 100\n",
    "\n",
    "mahangu_mean_tot = mahangu_mean_tot * 100\n",
    "maize_mean_tot = maize_mean_tot * 100\n",
    "bread_mean_tot = bread_mean_tot * 100"
   ]
  },
  {
   "source": [
    "## Charting Data"
   ],
   "cell_type": "markdown",
   "metadata": {}
  },
  {
   "cell_type": "code",
   "execution_count": null,
   "metadata": {},
   "outputs": [],
   "source": [
    "df_col_dict = {'Mahangu_own_production': mahangu_mean, 'Maize_purchase': maize_mean, 'Bread_purchase': bread_mean}\n",
    "df_tot_dict = {'Mahangu_own_production': mahangu_mean_tot, 'Maize_purchase': maize_mean_tot, 'Bread_purchase': bread_mean_tot}"
   ]
  },
  {
   "cell_type": "code",
   "execution_count": null,
   "metadata": {},
   "outputs": [],
   "source": [
    "df_tot_dict['Maize_purchase']"
   ]
  },
  {
   "cell_type": "code",
   "execution_count": null,
   "metadata": {},
   "outputs": [],
   "source": [
    "# Create function to create DRB charts\n",
    "def generate_DRB_cons_chart(df_col_dict, idx_name):\n",
    "    # Font parameters\n",
    "    tw = {'fontname': 'Tw Cen MT'}\n",
    "    cl = {'fontname': 'Calibri Light'}\n",
    "\n",
    "    # Generate plot\n",
    "    ax = plt.gca()\n",
    "    list_of_cols = list(df_col_dict.keys())\n",
    "    list_of_dfs = list(df_col_dict.values())\n",
    "\n",
    "    pd.DataFrame(list_of_dfs[0][list_of_cols[0]][idx_name]).plot(ax=ax)\n",
    "    pd.DataFrame(list_of_dfs[1][list_of_cols[1]][idx_name]).plot(ax=ax)\n",
    "    pd.DataFrame(list_of_dfs[2][list_of_cols[2]][idx_name]).plot(ax=ax)\n",
    "\n",
    "    # plt.title(f'{idx_name}: Source of Mahangu, Maize, Bread consumed daily', loc='left', fontsize=12, **tw)\n",
    "    plt.xlabel(\"\", fontsize=8, **cl)\n",
    "    plt.ylabel(\"Percent (%)\", fontsize=8, **cl)\n",
    "    plt.xticks(fontsize=8), plt.yticks(fontsize=9)\n",
    "    plt.legend(fontsize=7, loc='upper left', frameon=False)\n",
    "    ax.set_ylim([0,60])\n",
    "    fig = ax.get_figure()\n",
    "\n",
    "    # Create filename\n",
    "    location = 'output\\\\02_region\\\\charts\\\\DRB\\\\'\n",
    "    f_ext = '.svg'\n",
    "    chart_fn = idx_name + '_' + 'DRB' + f_ext\n",
    "    chart_path = os.path.join(os.getcwd(), location, chart_fn)\n",
    "    # Save file\n",
    "    fig.savefig(chart_path)\n",
    "    plt.cla()"
   ]
  },
  {
   "cell_type": "code",
   "execution_count": null,
   "metadata": {},
   "outputs": [],
   "source": [
    "[generate_DRB_cons_chart(df_col_dict, region) for region in region_list]"
   ]
  },
  {
   "cell_type": "code",
   "execution_count": null,
   "metadata": {},
   "outputs": [],
   "source": [
    "generate_DRB_cons_chart(df_tot_dict, 'total')"
   ]
  },
  {
   "cell_type": "code",
   "execution_count": null,
   "metadata": {},
   "outputs": [],
   "source": []
  }
 ]
}