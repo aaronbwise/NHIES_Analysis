{
 "metadata": {
  "language_info": {
   "codemirror_mode": {
    "name": "ipython",
    "version": 3
   },
   "file_extension": ".py",
   "mimetype": "text/x-python",
   "name": "python",
   "nbconvert_exporter": "python",
   "pygments_lexer": "ipython3",
   "version": "3.8.0-final"
  },
  "orig_nbformat": 2,
  "kernelspec": {
   "name": "Python 3.8.0 64-bit",
   "display_name": "Python 3.8.0 64-bit",
   "metadata": {
    "interpreter": {
     "hash": "83767d93bd5392afac4cf9ebadbc4a07ba4b627a3c77350e7c48fd32ab92faa3"
    }
   }
  }
 },
 "nbformat": 4,
 "nbformat_minor": 2,
 "cells": [
  {
   "source": [
    "## Additional Analysis of NHIES Data\n",
    "### Maize, millet, sorghum and wheat data by region\n",
    "### 06 October 2020"
   ],
   "cell_type": "markdown",
   "metadata": {}
  },
  {
   "cell_type": "code",
   "execution_count": 17,
   "metadata": {},
   "outputs": [],
   "source": [
    "import os\n",
    "\n",
    "import numpy as np\n",
    "import pandas as pd\n",
    "pd.set_option(\"display.max_rows\", 150)\n",
    "pd.set_option(\"display.max_columns\", None)\n",
    "\n",
    "from aw_analytics import mean_wt, median_wt, output_mean_table"
   ]
  },
  {
   "cell_type": "code",
   "execution_count": 18,
   "metadata": {},
   "outputs": [],
   "source": [
    "df = pd.read_csv('./data/nhies_cleaned.csv', encoding='utf-8')"
   ]
  },
  {
   "source": [
    "## Data Preprocessing"
   ],
   "cell_type": "markdown",
   "metadata": {}
  },
  {
   "cell_type": "code",
   "execution_count": 19,
   "metadata": {},
   "outputs": [],
   "source": [
    "# Create clean dates\n",
    "date_cols = ['ah_start_date', 'ah_end_date']\n",
    "# Convert to str\n",
    "df.loc[:,date_cols] = df[date_cols].fillna(0).astype(int).astype(str)\n",
    "\n",
    "df['Year'] = df.ah_start_date.str.slice(0,4)\n",
    "df.loc[df['Year'] == '0', 'Year'] = '2015'\n",
    "df['Month'] = df.ah_start_date.str.slice(4,6)\n",
    "df.loc[df['Month'] == '', 'Month'] = '06'\n",
    "df['Day'] = df.ah_start_date.str.slice(6,8)\n",
    "df.loc[df['Day'] == '', 'Day'] = '15'\n",
    "\n",
    "df['start_date'] = pd.to_datetime(df[['Year', 'Month', 'Day']])"
   ]
  },
  {
   "cell_type": "code",
   "execution_count": 20,
   "metadata": {},
   "outputs": [],
   "source": [
    "# Drop unwanted columns\n",
    "wt = ['wgt_hh']\n",
    "hhid = ['hhid']\n",
    "date_vars = ['start_date']\n",
    "ind_vars = ['urbrur', 'region', 'sex_of_head', 'age_of_head_cat', 'attain', 'apci_dec', 'main_language']\n",
    "dep_vars = ['q02_58_01', 'q02_58_02', 'q02_58_04', 'q02_58_13', 'q02_58_15', 'q02_59_01', 'q02_59_02', 'q02_59_04', 'q02_59_13', 'q02_59_15', 'q02_60_01', 'q02_60_02', 'q02_60_04', 'q02_60_13', 'q02_60_15', 'q07_02_1', 'q07_02_2', 'q07_02_3', 'q07_02_4', 'q07_02_6', 'crops_possessed_1', 'crops_possessed_2','crops_possessed_3', 'crops_possessed_4', 'crops_possessed_6',\n",
    "'q07_04_1', 'q07_04_2','q07_04_3', 'q07_04_4', 'q07_04_6', 'crops_given_away_1', 'crops_given_away_2', 'crops_given_away_3', 'crops_given_away_4', 'crops_given_away_6', 'crops_sold_1', 'crops_sold_2', 'crops_sold_3', 'crops_sold_4', 'crops_sold_6', 'q07_08_3']\n",
    "\n",
    "keep_cols = hhid + date_vars + wt + ind_vars + dep_vars\n",
    "\n",
    "df = df.iloc[:,df.columns.isin(keep_cols)]\n",
    "\n",
    "# Reorder columns\n",
    "df = df[keep_cols]\n",
    "\n",
    "# Add Total column\n",
    "df.insert(3, 'Total', 'Total')"
   ]
  },
  {
   "source": [
    "### Save and export small crop file\n"
   ],
   "cell_type": "markdown",
   "metadata": {}
  },
  {
   "cell_type": "code",
   "execution_count": 16,
   "metadata": {},
   "outputs": [],
   "source": [
    "df.sort_values(by='start_date').to_csv('./data/crop.csv', index=False)"
   ]
  },
  {
   "cell_type": "code",
   "execution_count": 5,
   "metadata": {},
   "outputs": [],
   "source": [
    "# wt = 'wgt_hh'\n",
    "\n",
    "ind_vars = ['Total', 'urbrur', 'region', 'sex_of_head', 'age_of_head_cat', 'attain', 'apci_dec', 'main_language']\n",
    "\n",
    "dep_vars = ['q07_02_1', 'q07_02_2', 'q07_02_3', 'q07_02_4', 'q07_02_6', 'crops_possessed_1', 'crops_possessed_2','crops_possessed_3', 'crops_possessed_4', 'crops_possessed_6']\n",
    "\n",
    "# Generate output tables\n",
    "with pd.ExcelWriter('./output/crop_tables_weighted.xlsx', mode='w') as writer:\n",
    "    for var in dep_vars:\n",
    "        output_df = output_mean_table(df, var, ind_vars, wt='wgt_hh')\n",
    "        sheet = str(var)\n",
    "        output_df.to_excel(writer, sheet_name=sheet)"
   ]
  },
  {
   "cell_type": "code",
   "execution_count": null,
   "metadata": {},
   "outputs": [],
   "source": []
  }
 ]
}